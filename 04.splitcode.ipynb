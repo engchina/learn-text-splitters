{
 "cells": [
  {
   "cell_type": "markdown",
   "source": [
    "# 拆分代码"
   ],
   "metadata": {
    "collapsed": false
   },
   "id": "6217387494eeb8d8"
  },
  {
   "cell_type": "markdown",
   "source": [
    "CodeTextSplitter 允许您使用支持的多种语言拆分代码。导入枚举 Language 并指定语言。"
   ],
   "metadata": {
    "collapsed": false
   },
   "id": "35010021b56b695c"
  },
  {
   "cell_type": "code",
   "execution_count": 1,
   "outputs": [],
   "source": [
    "from langchain_text_splitters import (\n",
    "    Language,\n",
    "    RecursiveCharacterTextSplitter,\n",
    ")"
   ],
   "metadata": {
    "collapsed": false,
    "ExecuteTime": {
     "end_time": "2024-04-07T03:06:41.576035Z",
     "start_time": "2024-04-07T03:06:41.335197100Z"
    }
   },
   "id": "a9948aec09c83e72"
  },
  {
   "cell_type": "code",
   "execution_count": 2,
   "outputs": [
    {
     "data": {
      "text/plain": "['cpp',\n 'go',\n 'java',\n 'kotlin',\n 'js',\n 'ts',\n 'php',\n 'proto',\n 'python',\n 'rst',\n 'ruby',\n 'rust',\n 'scala',\n 'swift',\n 'markdown',\n 'latex',\n 'html',\n 'sol',\n 'csharp',\n 'cobol',\n 'c',\n 'lua',\n 'perl']"
     },
     "execution_count": 2,
     "metadata": {},
     "output_type": "execute_result"
    }
   ],
   "source": [
    "# Full list of supported languages\n",
    "[e.value for e in Language]"
   ],
   "metadata": {
    "collapsed": false,
    "ExecuteTime": {
     "end_time": "2024-04-07T03:06:54.508392800Z",
     "start_time": "2024-04-07T03:06:54.505760500Z"
    }
   },
   "id": "10a21e5eb9e04acc"
  },
  {
   "cell_type": "code",
   "execution_count": 3,
   "outputs": [
    {
     "data": {
      "text/plain": "['\\nclass ', '\\ndef ', '\\n\\tdef ', '\\n\\n', '\\n', ' ', '']"
     },
     "execution_count": 3,
     "metadata": {},
     "output_type": "execute_result"
    }
   ],
   "source": [
    "# You can also see the separators used for a given language\n",
    "RecursiveCharacterTextSplitter.get_separators_for_language(Language.PYTHON)"
   ],
   "metadata": {
    "collapsed": false,
    "ExecuteTime": {
     "end_time": "2024-04-07T03:07:01.642598300Z",
     "start_time": "2024-04-07T03:07:01.637564900Z"
    }
   },
   "id": "4c6ce8b821a2d1f9"
  },
  {
   "cell_type": "markdown",
   "source": [
    "## Python"
   ],
   "metadata": {
    "collapsed": false
   },
   "id": "7038c36d7719570f"
  },
  {
   "cell_type": "markdown",
   "source": [
    "下面是使用 PythonTextSplitter 的示例："
   ],
   "metadata": {
    "collapsed": false
   },
   "id": "c8f7ef000f307da4"
  },
  {
   "cell_type": "code",
   "execution_count": 4,
   "outputs": [
    {
     "data": {
      "text/plain": "[Document(page_content='def hello_world():\\n    print(\"Hello, World!\")'),\n Document(page_content='# Call the function\\nhello_world()')]"
     },
     "execution_count": 4,
     "metadata": {},
     "output_type": "execute_result"
    }
   ],
   "source": [
    "PYTHON_CODE = \"\"\"\n",
    "def hello_world():\n",
    "    print(\"Hello, World!\")\n",
    "\n",
    "# Call the function\n",
    "hello_world()\n",
    "\"\"\"\n",
    "python_splitter = RecursiveCharacterTextSplitter.from_language(\n",
    "    language=Language.PYTHON, chunk_size=50, chunk_overlap=0\n",
    ")\n",
    "python_docs = python_splitter.create_documents([PYTHON_CODE])\n",
    "python_docs"
   ],
   "metadata": {
    "collapsed": false,
    "ExecuteTime": {
     "end_time": "2024-04-07T03:07:29.280616600Z",
     "start_time": "2024-04-07T03:07:29.274408500Z"
    }
   },
   "id": "d0cfdbff1647a212"
  },
  {
   "cell_type": "markdown",
   "source": [
    "## JS"
   ],
   "metadata": {
    "collapsed": false
   },
   "id": "70f549b8a95b18e8"
  },
  {
   "cell_type": "markdown",
   "source": [
    "下面是一个使用 JS 文本拆分器的示例："
   ],
   "metadata": {
    "collapsed": false
   },
   "id": "1cf6f53413808e08"
  },
  {
   "cell_type": "code",
   "execution_count": 5,
   "outputs": [
    {
     "data": {
      "text/plain": "[Document(page_content='function helloWorld() {\\n  console.log(\"Hello, World!\");\\n}'),\n Document(page_content='// Call the function\\nhelloWorld();')]"
     },
     "execution_count": 5,
     "metadata": {},
     "output_type": "execute_result"
    }
   ],
   "source": [
    "JS_CODE = \"\"\"\n",
    "function helloWorld() {\n",
    "  console.log(\"Hello, World!\");\n",
    "}\n",
    "\n",
    "// Call the function\n",
    "helloWorld();\n",
    "\"\"\"\n",
    "\n",
    "js_splitter = RecursiveCharacterTextSplitter.from_language(\n",
    "    language=Language.JS, chunk_size=60, chunk_overlap=0\n",
    ")\n",
    "js_docs = js_splitter.create_documents([JS_CODE])\n",
    "js_docs"
   ],
   "metadata": {
    "collapsed": false,
    "ExecuteTime": {
     "end_time": "2024-04-07T03:07:52.277270900Z",
     "start_time": "2024-04-07T03:07:52.269873500Z"
    }
   },
   "id": "3772f122e1076923"
  },
  {
   "cell_type": "markdown",
   "source": [
    "## TS"
   ],
   "metadata": {
    "collapsed": false
   },
   "id": "39727d07dea506f5"
  },
  {
   "cell_type": "markdown",
   "source": [
    "下面是使用 TS 文本拆分器的示例："
   ],
   "metadata": {
    "collapsed": false
   },
   "id": "9ee3523d48787f28"
  },
  {
   "cell_type": "code",
   "execution_count": 6,
   "outputs": [
    {
     "data": {
      "text/plain": "[Document(page_content='function helloWorld(): void {'),\n Document(page_content='console.log(\"Hello, World!\");\\n}'),\n Document(page_content='// Call the function\\nhelloWorld();')]"
     },
     "execution_count": 6,
     "metadata": {},
     "output_type": "execute_result"
    }
   ],
   "source": [
    "TS_CODE = \"\"\"\n",
    "function helloWorld(): void {\n",
    "  console.log(\"Hello, World!\");\n",
    "}\n",
    "\n",
    "// Call the function\n",
    "helloWorld();\n",
    "\"\"\"\n",
    "\n",
    "ts_splitter = RecursiveCharacterTextSplitter.from_language(\n",
    "    language=Language.TS, chunk_size=60, chunk_overlap=0\n",
    ")\n",
    "ts_docs = ts_splitter.create_documents([TS_CODE])\n",
    "ts_docs"
   ],
   "metadata": {
    "collapsed": false,
    "ExecuteTime": {
     "end_time": "2024-04-07T03:08:13.937945300Z",
     "start_time": "2024-04-07T03:08:13.929971400Z"
    }
   },
   "id": "6b40979c8e41af32"
  },
  {
   "cell_type": "markdown",
   "source": [
    "## Markdown"
   ],
   "metadata": {
    "collapsed": false
   },
   "id": "d062e5ec8f24e989"
  },
  {
   "cell_type": "markdown",
   "source": [
    "下面是使用 Markdown 文本拆分器的示例："
   ],
   "metadata": {
    "collapsed": false
   },
   "id": "cc710083de043762"
  },
  {
   "cell_type": "code",
   "execution_count": 7,
   "outputs": [],
   "source": [
    "markdown_text = \"\"\"\n",
    "# 🦜️🔗 LangChain\n",
    "\n",
    "⚡ Building applications with LLMs through composability ⚡\n",
    "\n",
    "## Quick Install\n",
    "\n",
    "```bash\n",
    "# Hopefully this code block isn't split\n",
    "pip install langchain\n",
    "```\n",
    "\n",
    "As an open-source project in a rapidly developing field, we are extremely open to contributions.\n",
    "\"\"\""
   ],
   "metadata": {
    "collapsed": false,
    "ExecuteTime": {
     "end_time": "2024-04-07T03:08:35.281591900Z",
     "start_time": "2024-04-07T03:08:35.272571200Z"
    }
   },
   "id": "9389d1831f24d733"
  },
  {
   "cell_type": "code",
   "execution_count": 8,
   "outputs": [
    {
     "data": {
      "text/plain": "[Document(page_content='# 🦜️🔗 LangChain'),\n Document(page_content='⚡ Building applications with LLMs through composability ⚡'),\n Document(page_content='## Quick Install\\n\\n```bash'),\n Document(page_content=\"# Hopefully this code block isn't split\"),\n Document(page_content='pip install langchain'),\n Document(page_content='```'),\n Document(page_content='As an open-source project in a rapidly developing field, we'),\n Document(page_content='are extremely open to contributions.')]"
     },
     "execution_count": 8,
     "metadata": {},
     "output_type": "execute_result"
    }
   ],
   "source": [
    "md_splitter = RecursiveCharacterTextSplitter.from_language(\n",
    "    language=Language.MARKDOWN, chunk_size=60, chunk_overlap=0\n",
    ")\n",
    "md_docs = md_splitter.create_documents([markdown_text])\n",
    "md_docs"
   ],
   "metadata": {
    "collapsed": false,
    "ExecuteTime": {
     "end_time": "2024-04-07T03:08:40.582220600Z",
     "start_time": "2024-04-07T03:08:40.575012500Z"
    }
   },
   "id": "e0c41beb226a5020"
  },
  {
   "cell_type": "markdown",
   "source": [
    "## Latex"
   ],
   "metadata": {
    "collapsed": false
   },
   "id": "c2c21b591a07fac5"
  },
  {
   "cell_type": "markdown",
   "source": [
    "下面是 Latex 文本的示例："
   ],
   "metadata": {
    "collapsed": false
   },
   "id": "e09a22d25e86a63c"
  },
  {
   "cell_type": "code",
   "execution_count": 9,
   "outputs": [],
   "source": [
    "latex_text = \"\"\"\n",
    "\\documentclass{article}\n",
    "\n",
    "\\begin{document}\n",
    "\n",
    "\\maketitle\n",
    "\n",
    "\\section{Introduction}\n",
    "Large language models (LLMs) are a type of machine learning model that can be trained on vast amounts of text data to generate human-like language. In recent years, LLMs have made significant advances in a variety of natural language processing tasks, including language translation, text generation, and sentiment analysis.\n",
    "\n",
    "\\subsection{History of LLMs}\n",
    "The earliest LLMs were developed in the 1980s and 1990s, but they were limited by the amount of data that could be processed and the computational power available at the time. In the past decade, however, advances in hardware and software have made it possible to train LLMs on massive datasets, leading to significant improvements in performance.\n",
    "\n",
    "\\subsection{Applications of LLMs}\n",
    "LLMs have many applications in industry, including chatbots, content creation, and virtual assistants. They can also be used in academia for research in linguistics, psychology, and computational linguistics.\n",
    "\n",
    "\\end{document}\n",
    "\"\"\""
   ],
   "metadata": {
    "collapsed": false,
    "ExecuteTime": {
     "end_time": "2024-04-07T03:09:06.955768800Z",
     "start_time": "2024-04-07T03:09:06.946782800Z"
    }
   },
   "id": "ed09fef9ee126ce0"
  },
  {
   "cell_type": "code",
   "execution_count": 10,
   "outputs": [
    {
     "data": {
      "text/plain": "[Document(page_content='\\\\documentclass{article}\\n\\n\\x08egin{document}\\n\\n\\\\maketitle'),\n Document(page_content='\\\\section{Introduction}'),\n Document(page_content='Large language models (LLMs) are a type of machine learning'),\n Document(page_content='model that can be trained on vast amounts of text data to'),\n Document(page_content='generate human-like language. In recent years, LLMs have'),\n Document(page_content='made significant advances in a variety of natural language'),\n Document(page_content='processing tasks, including language translation, text'),\n Document(page_content='generation, and sentiment analysis.'),\n Document(page_content='\\\\subsection{History of LLMs}'),\n Document(page_content='The earliest LLMs were developed in the 1980s and 1990s,'),\n Document(page_content='but they were limited by the amount of data that could be'),\n Document(page_content='processed and the computational power available at the'),\n Document(page_content='time. In the past decade, however, advances in hardware and'),\n Document(page_content='software have made it possible to train LLMs on massive'),\n Document(page_content='datasets, leading to significant improvements in'),\n Document(page_content='performance.'),\n Document(page_content='\\\\subsection{Applications of LLMs}'),\n Document(page_content='LLMs have many applications in industry, including'),\n Document(page_content='chatbots, content creation, and virtual assistants. They'),\n Document(page_content='can also be used in academia for research in linguistics,'),\n Document(page_content='psychology, and computational linguistics.'),\n Document(page_content='\\\\end{document}')]"
     },
     "execution_count": 10,
     "metadata": {},
     "output_type": "execute_result"
    }
   ],
   "source": [
    "latex_splitter = RecursiveCharacterTextSplitter.from_language(\n",
    "    language=Language.MARKDOWN, chunk_size=60, chunk_overlap=0\n",
    ")\n",
    "latex_docs = latex_splitter.create_documents([latex_text])\n",
    "latex_docs"
   ],
   "metadata": {
    "collapsed": false,
    "ExecuteTime": {
     "end_time": "2024-04-07T03:09:11.813736600Z",
     "start_time": "2024-04-07T03:09:11.805425500Z"
    }
   },
   "id": "357b3eb5e3091e9d"
  },
  {
   "cell_type": "markdown",
   "source": [
    "## HTML"
   ],
   "metadata": {
    "collapsed": false
   },
   "id": "b3e843dbd3f75110"
  },
  {
   "cell_type": "markdown",
   "source": [
    "下面是一个使用 HTML 文本拆分器的示例："
   ],
   "metadata": {
    "collapsed": false
   },
   "id": "509f2ec5dcc6262c"
  },
  {
   "cell_type": "code",
   "execution_count": 11,
   "outputs": [],
   "source": [
    "html_text = \"\"\"\n",
    "<!DOCTYPE html>\n",
    "<html>\n",
    "    <head>\n",
    "        <title>🦜️🔗 LangChain</title>\n",
    "        <style>\n",
    "            body {\n",
    "                font-family: Arial, sans-serif;\n",
    "            }\n",
    "            h1 {\n",
    "                color: darkblue;\n",
    "            }\n",
    "        </style>\n",
    "    </head>\n",
    "    <body>\n",
    "        <div>\n",
    "            <h1>🦜️🔗 LangChain</h1>\n",
    "            <p>⚡ Building applications with LLMs through composability ⚡</p>\n",
    "        </div>\n",
    "        <div>\n",
    "            As an open-source project in a rapidly developing field, we are extremely open to contributions.\n",
    "        </div>\n",
    "    </body>\n",
    "</html>\n",
    "\"\"\""
   ],
   "metadata": {
    "collapsed": false,
    "ExecuteTime": {
     "end_time": "2024-04-07T03:09:31.256985200Z",
     "start_time": "2024-04-07T03:09:31.247743600Z"
    }
   },
   "id": "3d5c4a7650145246"
  },
  {
   "cell_type": "code",
   "execution_count": 12,
   "outputs": [
    {
     "data": {
      "text/plain": "[Document(page_content='<!DOCTYPE html>\\n<html>'),\n Document(page_content='<head>\\n        <title>🦜️🔗 LangChain</title>'),\n Document(page_content='<style>\\n            body {\\n                font-family: Aria'),\n Document(page_content='l, sans-serif;\\n            }\\n            h1 {'),\n Document(page_content='color: darkblue;\\n            }\\n        </style>\\n    </head'),\n Document(page_content='>'),\n Document(page_content='<body>'),\n Document(page_content='<div>\\n            <h1>🦜️🔗 LangChain</h1>'),\n Document(page_content='<p>⚡ Building applications with LLMs through composability ⚡'),\n Document(page_content='</p>\\n        </div>'),\n Document(page_content='<div>\\n            As an open-source project in a rapidly dev'),\n Document(page_content='eloping field, we are extremely open to contributions.'),\n Document(page_content='</div>\\n    </body>\\n</html>')]"
     },
     "execution_count": 12,
     "metadata": {},
     "output_type": "execute_result"
    }
   ],
   "source": [
    "html_splitter = RecursiveCharacterTextSplitter.from_language(\n",
    "    language=Language.HTML, chunk_size=60, chunk_overlap=0\n",
    ")\n",
    "html_docs = html_splitter.create_documents([html_text])\n",
    "html_docs"
   ],
   "metadata": {
    "collapsed": false,
    "ExecuteTime": {
     "end_time": "2024-04-07T03:09:38.357107800Z",
     "start_time": "2024-04-07T03:09:38.349071600Z"
    }
   },
   "id": "b64229dee6aa7787"
  },
  {
   "cell_type": "code",
   "execution_count": 13,
   "outputs": [],
   "source": [
    "## Solidity"
   ],
   "metadata": {
    "collapsed": false,
    "ExecuteTime": {
     "end_time": "2024-04-07T03:09:51.643334900Z",
     "start_time": "2024-04-07T03:09:51.632690400Z"
    }
   },
   "id": "cb723743378a0de6"
  },
  {
   "cell_type": "markdown",
   "source": [
    "下面是使用 Solidity 文本拆分器的示例："
   ],
   "metadata": {
    "collapsed": false
   },
   "id": "6b5e8b47533475da"
  },
  {
   "cell_type": "code",
   "execution_count": 14,
   "outputs": [
    {
     "data": {
      "text/plain": "[Document(page_content='pragma solidity ^0.8.20;'),\n Document(page_content='contract HelloWorld {\\n   function add(uint a, uint b) pure public returns(uint) {\\n       return a + b;\\n   }\\n}')]"
     },
     "execution_count": 14,
     "metadata": {},
     "output_type": "execute_result"
    }
   ],
   "source": [
    "SOL_CODE = \"\"\"\n",
    "pragma solidity ^0.8.20;\n",
    "contract HelloWorld {\n",
    "   function add(uint a, uint b) pure public returns(uint) {\n",
    "       return a + b;\n",
    "   }\n",
    "}\n",
    "\"\"\"\n",
    "\n",
    "sol_splitter = RecursiveCharacterTextSplitter.from_language(\n",
    "    language=Language.SOL, chunk_size=128, chunk_overlap=0\n",
    ")\n",
    "sol_docs = sol_splitter.create_documents([SOL_CODE])\n",
    "sol_docs"
   ],
   "metadata": {
    "collapsed": false,
    "ExecuteTime": {
     "end_time": "2024-04-07T03:10:02.756747400Z",
     "start_time": "2024-04-07T03:10:02.747282800Z"
    }
   },
   "id": "5b793a00ec1c897f"
  },
  {
   "cell_type": "markdown",
   "source": [
    "## C"
   ],
   "metadata": {
    "collapsed": false
   },
   "id": "bf632474a64829e6"
  },
  {
   "cell_type": "markdown",
   "source": [
    "下面是使用 C# 文本拆分器的示例："
   ],
   "metadata": {
    "collapsed": false
   },
   "id": "41ba44406efa018b"
  },
  {
   "cell_type": "code",
   "execution_count": 15,
   "outputs": [
    {
     "data": {
      "text/plain": "[Document(page_content='using System;'),\n Document(page_content='class Program\\n{\\n    static void Main()\\n    {\\n        int age = 30; // Change the age value as needed'),\n Document(page_content='// Categorize the age without any console output\\n        if (age < 18)\\n        {\\n            // Age is under 18'),\n Document(page_content='}\\n        else if (age >= 18 && age < 65)\\n        {\\n            // Age is an adult\\n        }\\n        else\\n        {'),\n Document(page_content='// Age is a senior citizen\\n        }\\n    }\\n}')]"
     },
     "execution_count": 15,
     "metadata": {},
     "output_type": "execute_result"
    }
   ],
   "source": [
    "C_CODE = \"\"\"\n",
    "using System;\n",
    "class Program\n",
    "{\n",
    "    static void Main()\n",
    "    {\n",
    "        int age = 30; // Change the age value as needed\n",
    "\n",
    "        // Categorize the age without any console output\n",
    "        if (age < 18)\n",
    "        {\n",
    "            // Age is under 18\n",
    "        }\n",
    "        else if (age >= 18 && age < 65)\n",
    "        {\n",
    "            // Age is an adult\n",
    "        }\n",
    "        else\n",
    "        {\n",
    "            // Age is a senior citizen\n",
    "        }\n",
    "    }\n",
    "}\n",
    "\"\"\"\n",
    "c_splitter = RecursiveCharacterTextSplitter.from_language(\n",
    "    language=Language.CSHARP, chunk_size=128, chunk_overlap=0\n",
    ")\n",
    "c_docs = c_splitter.create_documents([C_CODE])\n",
    "c_docs"
   ],
   "metadata": {
    "collapsed": false,
    "ExecuteTime": {
     "end_time": "2024-04-07T03:10:23.137009600Z",
     "start_time": "2024-04-07T03:10:23.126146200Z"
    }
   },
   "id": "e6b075681b1273ec"
  },
  {
   "cell_type": "markdown",
   "source": [
    "## Haskell"
   ],
   "metadata": {
    "collapsed": false
   },
   "id": "a56b747b71f25cf6"
  },
  {
   "cell_type": "markdown",
   "source": [
    "下面是使用 Haskell 文本拆分器的示例："
   ],
   "metadata": {
    "collapsed": false
   },
   "id": "350be7026683e365"
  },
  {
   "cell_type": "code",
   "execution_count": null,
   "outputs": [],
   "source": [],
   "metadata": {
    "collapsed": false
   },
   "id": "7b421ef462264a4c"
  }
 ],
 "metadata": {
  "kernelspec": {
   "display_name": "Python 3",
   "language": "python",
   "name": "python3"
  },
  "language_info": {
   "codemirror_mode": {
    "name": "ipython",
    "version": 2
   },
   "file_extension": ".py",
   "mimetype": "text/x-python",
   "name": "python",
   "nbconvert_exporter": "python",
   "pygments_lexer": "ipython2",
   "version": "2.7.6"
  }
 },
 "nbformat": 4,
 "nbformat_minor": 5
}
