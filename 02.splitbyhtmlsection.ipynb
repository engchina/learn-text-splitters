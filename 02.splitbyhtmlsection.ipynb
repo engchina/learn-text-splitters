{
 "cells": [
  {
   "cell_type": "markdown",
   "source": [
    "# 按 HTML Section 拆分"
   ],
   "metadata": {
    "collapsed": false
   },
   "id": "e2406cc3d70b5015"
  },
  {
   "cell_type": "markdown",
   "source": [
    "在概念上与 HTMLHeaderTextSplitter 类似，它 HTMLSectionSplitter 是一个“结构感知”分块器，它在元素级别拆分文本，并为每个与任何给定块“相关”的标题添加元数据。它可以逐个元素返回块，也可以将具有相同元数据的元素组合在一起，其目标是 （a） 在语义上对相关文本进行分组（或多或少），以及 （b） 保留在文档结构中编码的上下文丰富的信息。它可以与其他文本拆分器一起使用，作为分块管道的一部分。在内部，它使用当截面大小大于块大小时。 RecursiveCharacterTextSplitter 它还会考虑文本的字体大小，以根据确定的字体大小阈值确定它是否为部分。用于 xslt_path 提供用于转换 HTML 的绝对路径，以便它可以根据提供的标记检测部分。默认情况下使用 data_connection/document_transformers 目录中的 converting_to_header.xslt 文件。这是为了将 html 转换为更易于检测部分的格式/布局。例如， span 根据它们的字体大小可以转换为标题标签，以检测为一个部分。"
   ],
   "metadata": {
    "collapsed": false
   },
   "id": "3e09295976db0080"
  },
  {
   "cell_type": "markdown",
   "source": [
    "## 使用示例"
   ],
   "metadata": {
    "collapsed": false
   },
   "id": "af4f9b252fc6711c"
  },
  {
   "cell_type": "markdown",
   "source": [
    "1）使用HTML字符串："
   ],
   "metadata": {
    "collapsed": false
   },
   "id": "cfb7dafdf2f5b82c"
  },
  {
   "cell_type": "code",
   "execution_count": 1,
   "outputs": [
    {
     "ename": "ImportError",
     "evalue": "cannot import name 'HTMLSectionSplitter' from 'langchain_text_splitters' (D:\\anaconda3\\envs\\learn-text-splitters\\Lib\\site-packages\\langchain_text_splitters\\__init__.py)",
     "output_type": "error",
     "traceback": [
      "\u001B[1;31m---------------------------------------------------------------------------\u001B[0m",
      "\u001B[1;31mImportError\u001B[0m                               Traceback (most recent call last)",
      "Cell \u001B[1;32mIn[1], line 1\u001B[0m\n\u001B[1;32m----> 1\u001B[0m \u001B[38;5;28;01mfrom\u001B[39;00m \u001B[38;5;21;01mlangchain_text_splitters\u001B[39;00m \u001B[38;5;28;01mimport\u001B[39;00m HTMLSectionSplitter\n\u001B[0;32m      3\u001B[0m html_string \u001B[38;5;241m=\u001B[39m \u001B[38;5;124m\"\"\"\u001B[39m\n\u001B[0;32m      4\u001B[0m \u001B[38;5;124m    <!DOCTYPE html>\u001B[39m\n\u001B[0;32m      5\u001B[0m \u001B[38;5;124m    <html>\u001B[39m\n\u001B[1;32m   (...)\u001B[0m\n\u001B[0;32m     26\u001B[0m \u001B[38;5;124m    </html>\u001B[39m\n\u001B[0;32m     27\u001B[0m \u001B[38;5;124m\"\"\"\u001B[39m\n\u001B[0;32m     29\u001B[0m headers_to_split_on \u001B[38;5;241m=\u001B[39m [(\u001B[38;5;124m\"\u001B[39m\u001B[38;5;124mh1\u001B[39m\u001B[38;5;124m\"\u001B[39m, \u001B[38;5;124m\"\u001B[39m\u001B[38;5;124mHeader 1\u001B[39m\u001B[38;5;124m\"\u001B[39m), (\u001B[38;5;124m\"\u001B[39m\u001B[38;5;124mh2\u001B[39m\u001B[38;5;124m\"\u001B[39m, \u001B[38;5;124m\"\u001B[39m\u001B[38;5;124mHeader 2\u001B[39m\u001B[38;5;124m\"\u001B[39m)]\n",
      "\u001B[1;31mImportError\u001B[0m: cannot import name 'HTMLSectionSplitter' from 'langchain_text_splitters' (D:\\anaconda3\\envs\\learn-text-splitters\\Lib\\site-packages\\langchain_text_splitters\\__init__.py)"
     ]
    }
   ],
   "source": [
    "from langchain_text_splitters import HTMLSectionSplitter\n",
    "\n",
    "html_string = \"\"\"\n",
    "    <!DOCTYPE html>\n",
    "    <html>\n",
    "    <body>\n",
    "        <div>\n",
    "            <h1>Foo</h1>\n",
    "            <p>Some intro text about Foo.</p>\n",
    "            <div>\n",
    "                <h2>Bar main section</h2>\n",
    "                <p>Some intro text about Bar.</p>\n",
    "                <h3>Bar subsection 1</h3>\n",
    "                <p>Some text about the first subtopic of Bar.</p>\n",
    "                <h3>Bar subsection 2</h3>\n",
    "                <p>Some text about the second subtopic of Bar.</p>\n",
    "            </div>\n",
    "            <div>\n",
    "                <h2>Baz</h2>\n",
    "                <p>Some text about Baz</p>\n",
    "            </div>\n",
    "            <br>\n",
    "            <p>Some concluding text about Foo</p>\n",
    "        </div>\n",
    "    </body>\n",
    "    </html>\n",
    "\"\"\"\n",
    "\n",
    "headers_to_split_on = [(\"h1\", \"Header 1\"), (\"h2\", \"Header 2\")]\n",
    "\n",
    "html_splitter = HTMLSectionSplitter(headers_to_split_on=headers_to_split_on)\n",
    "html_header_splits = html_splitter.split_text(html_string)\n",
    "html_header_splits"
   ],
   "metadata": {
    "collapsed": false,
    "ExecuteTime": {
     "end_time": "2024-04-07T02:53:40.468552300Z",
     "start_time": "2024-04-07T02:53:40.110351600Z"
    }
   },
   "id": "9c25cbc450c57079"
  },
  {
   "cell_type": "markdown",
   "source": [
    "2） 通过管道传输到另一个拆分器，从 html 字符串内容加载 html："
   ],
   "metadata": {
    "collapsed": false
   },
   "id": "6da241e29ad6255b"
  },
  {
   "cell_type": "markdown",
   "source": [
    "from langchain.text_splitter import RecursiveCharacterTextSplitter\n",
    "\n",
    "html_string = \"\"\"\n",
    "    <!DOCTYPE html>\n",
    "    <html>\n",
    "    <body>\n",
    "        <div>\n",
    "            <h1>Foo</h1>\n",
    "            <p>Some intro text about Foo.</p>\n",
    "            <div>\n",
    "                <h2>Bar main section</h2>\n",
    "                <p>Some intro text about Bar.</p>\n",
    "                <h3>Bar subsection 1</h3>\n",
    "                <p>Some text about the first subtopic of Bar.</p>\n",
    "                <h3>Bar subsection 2</h3>\n",
    "                <p>Some text about the second subtopic of Bar.</p>\n",
    "            </div>\n",
    "            <div>\n",
    "                <h2>Baz</h2>\n",
    "                <p>Some text about Baz</p>\n",
    "            </div>\n",
    "            <br>\n",
    "            <p>Some concluding text about Foo</p>\n",
    "        </div>\n",
    "    </body>\n",
    "    </html>\n",
    "\"\"\"\n",
    "\n",
    "headers_to_split_on = [\n",
    "    (\"h1\", \"Header 1\"),\n",
    "    (\"h2\", \"Header 2\"),\n",
    "    (\"h3\", \"Header 3\"),\n",
    "    (\"h4\", \"Header 4\"),\n",
    "]\n",
    "\n",
    "html_splitter = HTMLSectionSplitter(headers_to_split_on=headers_to_split_on)\n",
    "\n",
    "html_header_splits = html_splitter.split_text(html_string)\n",
    "\n",
    "chunk_size = 500\n",
    "chunk_overlap = 30\n",
    "text_splitter = RecursiveCharacterTextSplitter(\n",
    "    chunk_size=chunk_size, chunk_overlap=chunk_overlap\n",
    ")\n",
    "\n",
    "# Split\n",
    "splits = text_splitter.split_documents(html_header_splits)\n",
    "splits"
   ],
   "metadata": {
    "collapsed": false
   },
   "id": "b08e24f55161e02f"
  },
  {
   "cell_type": "code",
   "execution_count": null,
   "outputs": [],
   "source": [],
   "metadata": {
    "collapsed": false
   },
   "id": "633bcd18a7c86293"
  }
 ],
 "metadata": {
  "kernelspec": {
   "display_name": "Python 3",
   "language": "python",
   "name": "python3"
  },
  "language_info": {
   "codemirror_mode": {
    "name": "ipython",
    "version": 2
   },
   "file_extension": ".py",
   "mimetype": "text/x-python",
   "name": "python",
   "nbconvert_exporter": "python",
   "pygments_lexer": "ipython2",
   "version": "2.7.6"
  }
 },
 "nbformat": 4,
 "nbformat_minor": 5
}
