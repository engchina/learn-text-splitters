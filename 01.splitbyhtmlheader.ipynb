{
 "cells": [
  {
   "cell_type": "code",
   "execution_count": 1,
   "id": "initial_id",
   "metadata": {
    "collapsed": true,
    "ExecuteTime": {
     "end_time": "2024-04-07T02:46:30.994640600Z",
     "start_time": "2024-04-07T02:46:30.985267Z"
    }
   },
   "outputs": [],
   "source": [
    "# Split by HTML header"
   ]
  },
  {
   "cell_type": "markdown",
   "source": [
    "'MarkdownHeaderTextSplitter'，'HTMLHeaderTextSplitter'是一个“结构感知”分块器，它在元素级别拆分文本，并为每个标题添加元数据“相关”到任何给定块。它可以逐个元素返回块，也可以将具有相同元数据的元素组合在一起，其目标是 （a） 在语义上对相关文本进行分组（或多或少），以及 （b） 保留在文档结构中编码的上下文丰富的信息。它可以与其他文本拆分器一起使用，作为分块管道的一部分。"
   ],
   "metadata": {
    "collapsed": false
   },
   "id": "aac9816ff966910b"
  },
  {
   "cell_type": "markdown",
   "source": [
    "## 使用示例"
   ],
   "metadata": {
    "collapsed": false
   },
   "id": "928271b5c9cebca9"
  },
  {
   "cell_type": "markdown",
   "source": [
    "1）使用HTML字符串："
   ],
   "metadata": {
    "collapsed": false
   },
   "id": "7d7b292f07160716"
  },
  {
   "cell_type": "code",
   "execution_count": 1,
   "outputs": [
    {
     "data": {
      "text/plain": "[Document(page_content='Foo'),\n Document(page_content='Some intro text about Foo.  \\nBar main section Bar subsection 1 Bar subsection 2', metadata={'Header 1': 'Foo'}),\n Document(page_content='Some intro text about Bar.', metadata={'Header 1': 'Foo', 'Header 2': 'Bar main section'}),\n Document(page_content='Some text about the first subtopic of Bar.', metadata={'Header 1': 'Foo', 'Header 2': 'Bar main section', 'Header 3': 'Bar subsection 1'}),\n Document(page_content='Some text about the second subtopic of Bar.', metadata={'Header 1': 'Foo', 'Header 2': 'Bar main section', 'Header 3': 'Bar subsection 2'}),\n Document(page_content='Baz', metadata={'Header 1': 'Foo'}),\n Document(page_content='Some text about Baz', metadata={'Header 1': 'Foo', 'Header 2': 'Baz'}),\n Document(page_content='Some concluding text about Foo', metadata={'Header 1': 'Foo'})]"
     },
     "execution_count": 1,
     "metadata": {},
     "output_type": "execute_result"
    }
   ],
   "source": [
    "from langchain_text_splitters import HTMLHeaderTextSplitter\n",
    "\n",
    "html_string = \"\"\"\n",
    "<!DOCTYPE html>\n",
    "<html>\n",
    "<body>\n",
    "    <div>\n",
    "        <h1>Foo</h1>\n",
    "        <p>Some intro text about Foo.</p>\n",
    "        <div>\n",
    "            <h2>Bar main section</h2>\n",
    "            <p>Some intro text about Bar.</p>\n",
    "            <h3>Bar subsection 1</h3>\n",
    "            <p>Some text about the first subtopic of Bar.</p>\n",
    "            <h3>Bar subsection 2</h3>\n",
    "            <p>Some text about the second subtopic of Bar.</p>\n",
    "        </div>\n",
    "        <div>\n",
    "            <h2>Baz</h2>\n",
    "            <p>Some text about Baz</p>\n",
    "        </div>\n",
    "        <br>\n",
    "        <p>Some concluding text about Foo</p>\n",
    "    </div>\n",
    "</body>\n",
    "</html>\n",
    "\"\"\"\n",
    "\n",
    "headers_to_split_on = [\n",
    "    (\"h1\", \"Header 1\"),\n",
    "    (\"h2\", \"Header 2\"),\n",
    "    (\"h3\", \"Header 3\"),\n",
    "]\n",
    "\n",
    "html_splitter = HTMLHeaderTextSplitter(headers_to_split_on=headers_to_split_on)\n",
    "html_header_splits = html_splitter.split_text(html_string)\n",
    "html_header_splits"
   ],
   "metadata": {
    "collapsed": false,
    "ExecuteTime": {
     "end_time": "2024-04-07T02:48:20.158533600Z",
     "start_time": "2024-04-07T02:48:19.977570300Z"
    }
   },
   "id": "495bfb2aea6dfdd7"
  },
  {
   "cell_type": "markdown",
   "source": [
    "2） 通过管道传输到另一个拆分器，从 Web URL 加载 html："
   ],
   "metadata": {
    "collapsed": false
   },
   "id": "278de969d5705084"
  },
  {
   "cell_type": "code",
   "execution_count": 6,
   "outputs": [
    {
     "data": {
      "text/plain": "[Document(page_content='主条目：劉德華演唱會列表', metadata={'Header 1': '劉德華', 'Header 2': '歌唱事业[编辑]', 'Header 3': '演唱会[编辑]'}),\n Document(page_content='1991年，刘德华凭借其在电影方面的影响力，在韩国汉城（今首尔）首爾奧林匹克體操競技場举办了一场演唱会，这是他举办的首场个人演唱会。1992年赴美国与加拿大举办的八场个唱为其首次巡回演出[189]。1993年1月，首次於紅磡體育館舉辦了20场的在港個人演唱會[142]。之后1994年与1996年又各举办了20场，1999年、2001年与2004年的夏季各举办15场，2007年、2010年和2018年年底各举办了16场、20场和13场（2018年原定20场，因喉咙发炎被迫取消了7场）的跨年演出[188][198]，累计起来目前他已在香港红馆开唱154场。1993年刘德华首次到中国大陆展开了23场的室内巡回演唱会[189]，为其首次中国巡演活动。1997年与1998年在内地累计举办20场[189]；2000年的中国巡演在济南、沈阳等10个城市展开[189]。2001年与2002年的“夏日Fiesta”巡演合计在武汉、大连、南昌、西安等10个城市举行[189]。2004年至2005年的“Vision', metadata={'Header 1': '劉德華', 'Header 2': '歌唱事业[编辑]', 'Header 3': '演唱会[编辑]'}),\n Document(page_content='Tour”中国巡回在上海、苏州、西安、无锡等19个城市上演[189]。2007年的“Wonderful World”中国巡回从呼和浩特开始到成都结束共在15个城市举办[193]，其中上海站一连举办了两场；2009年继续进行了广州、合肥等9个城市的“Wonderful World”中国巡回个唱[192]。2011年在北京、郑州和天津等11站举办“Unforgettable”中国巡回演出[199]。2013年开启的“ALways”中国巡回个唱选择在上海、南京、广州、北京和大连这五座城市的体育馆举行[232]，以达到同香港红馆四面台一样的室内效果。至今刘德华已在中国大陆各城市举办了132场个人演唱会，其中上海为其举办场次最多的内地城市。由于创下过许多城市的票房上座和現場火暴記錄，刘德华也被一些中国媒体和演出商誉为“華語歌壇票房第一人”[233][234][235][236]。', metadata={'Header 1': '劉德華', 'Header 2': '歌唱事业[编辑]', 'Header 3': '演唱会[编辑]'}),\n Document(page_content='除了香港和中国大陆，刘德华也多次到台湾、新加坡、马来西亚，以及北美的温哥华和多伦多等华人聚集的城市举办演唱会[189]。从1991年到2013年之间除了2006年和2012年外，刘德华每年都举办了多场演唱会，其中1996年以累计举办47场为其演唱会最多的一年[189]。其演唱会顺序大多都是先在香港举办连续多场的个唱，然后再到各地巡演，不过2007年与2013年这两年却以中国巡演为开端，然后才赴其他地区举办。在演出内容上，香港本土以粤语歌曲为主，各地巡演则以国语歌曲为主，而《一起走过的日子》和《忘情水》[129]这两首经典代表作是其演唱频率最多的歌曲。刘德华在每次巡演前都会学习一些新的舞蹈以表演给歌迷[237]，如2001年的拉丁舞[170]与2004年的踢踏舞[238]。其演出现场经常以劲歌热舞为开端，中间会安插一些表演和歌唱同时进行的以爱情为主题的音乐剧[239][237][240]，而且从头到尾刘德华与歌迷、观众交流互动的机会比较多[158]。由于多年来刘德华陆续演绎了许多首广为流行和传唱的经典歌曲，因此《谢谢你的爱》、《忘情水》、《天意》、《中国人》、《笨小孩》、《冰雨》、《爱', metadata={'Header 1': '劉德華', 'Header 2': '歌唱事业[编辑]', 'Header 3': '演唱会[编辑]'}),\n Document(page_content='《忘情水》、《天意》、《中国人》、《笨小孩》、《冰雨》、《爱你一万年》、《练习》等名曲在个唱上常常会引起集体大合唱[129]。从1994年至今，刘德华已发行11张个唱影碟，其中在香港红馆录制的有1994、1996、1999、2001、2004、2007和2010年共七张，2002年的《你是我的骄傲演唱会》于12月6日在香港伊利沙伯体育馆举办，是为庆祝他入行20年而专门为三千名华仔天地会员举办的一次免费演出[241]。另外三张冠名为中国巡回演唱会的影碟，分别是在2004年的北京工人体育场、2007年和2011年的上海体育场录制的，这开创了歌手在北京和上海这两大能容纳6万名以上观众的体育场发行演唱会影碟的先河，其中北京演唱会不仅入选中国演出家协会评选的「2004中国十大演出盛事」，而且还是2004年中国单场演出票房最高的一场演出[242]。', metadata={'Header 1': '劉德華', 'Header 2': '歌唱事业[编辑]', 'Header 3': '演唱会[编辑]'})]"
     },
     "execution_count": 6,
     "metadata": {},
     "output_type": "execute_result"
    }
   ],
   "source": [
    "from langchain_text_splitters import RecursiveCharacterTextSplitter\n",
    "\n",
    "# url = \"https://plato.stanford.edu/entries/goedel/\"\n",
    "url = \"https://zh.wikipedia.org/wiki/%E5%8A%89%E5%BE%B7%E8%8F%AF\"\n",
    "\n",
    "headers_to_split_on = [\n",
    "    (\"h1\", \"Header 1\"),\n",
    "    (\"h2\", \"Header 2\"),\n",
    "    (\"h3\", \"Header 3\"),\n",
    "    (\"h4\", \"Header 4\"),\n",
    "]\n",
    "\n",
    "html_splitter = HTMLHeaderTextSplitter(headers_to_split_on=headers_to_split_on)\n",
    "\n",
    "# for local file use html_splitter.split_text_from_file(<path_to_file>)\n",
    "html_header_splits = html_splitter.split_text_from_url(url)\n",
    "\n",
    "chunk_size = 500\n",
    "chunk_overlap = 30\n",
    "text_splitter = RecursiveCharacterTextSplitter(\n",
    "    chunk_size=chunk_size, chunk_overlap=chunk_overlap\n",
    ")\n",
    "\n",
    "# Split\n",
    "splits = text_splitter.split_documents(html_header_splits)\n",
    "splits[80:85]"
   ],
   "metadata": {
    "collapsed": false,
    "ExecuteTime": {
     "end_time": "2024-04-07T09:58:15.718556100Z",
     "start_time": "2024-04-07T09:58:13.791692100Z"
    }
   },
   "id": "cef3f7519a151d1a"
  },
  {
   "cell_type": "markdown",
   "source": [
    "## 局限性"
   ],
   "metadata": {
    "collapsed": false
   },
   "id": "f165464869872154"
  },
  {
   "cell_type": "markdown",
   "source": [
    "从一个 HTML 文档到另一个 HTML 文档可能会有相当多的结构变化，虽然 HTMLHeaderTextSplitter 会尝试将所有“相关”标头附加到任何给定的块，但它有时会遗漏某些标头。例如，该算法假定了一个信息层次结构，其中标头始终位于关联文本“上方”的节点上，即先前的兄弟姐妹、祖先及其组合。在下面的新闻文章中（截至撰写本文档时），文档的结构使得顶级标题的文本虽然标记为“h1”，但与我们期望它位于“上方”的文本元素不同，因此我们可以观察到“h1”元素及其关联文本不会显示在块元数据中（但是， 在适用的情况下，我们确实可以看到“H2”及其相关文本）："
   ],
   "metadata": {
    "collapsed": false
   },
   "id": "370ee6c0fdcbaf9d"
  },
  {
   "cell_type": "code",
   "execution_count": 11,
   "outputs": [
    {
     "name": "stdout",
     "output_type": "stream",
     "text": [
      "No two El Niño winters are the same, but many have temperature and precipitation trends in common.  \n",
      "Average conditions during an El Niño winter across the continental US.  \n",
      "One of the major reasons is the position of the jet stream, which often shifts south during an El Niño winter. This shift typically brings wetter and cooler weather to the South while the North becomes drier and warmer, according to NOAA.  \n",
      "Because the jet stream is essentially a river of air that storms flow through, they c\n"
     ]
    }
   ],
   "source": [
    "url = \"https://www.cnn.com/2023/09/25/weather/el-nino-winter-us-climate/index.html\"\n",
    "\n",
    "headers_to_split_on = [\n",
    "    (\"h1\", \"Header 1\"),\n",
    "    (\"h2\", \"Header 2\"),\n",
    "]\n",
    "\n",
    "html_splitter = HTMLHeaderTextSplitter(headers_to_split_on=headers_to_split_on)\n",
    "html_header_splits = html_splitter.split_text_from_url(url)\n",
    "print(html_header_splits[1].page_content[:500])"
   ],
   "metadata": {
    "collapsed": false,
    "ExecuteTime": {
     "end_time": "2024-04-07T10:00:14.303664800Z",
     "start_time": "2024-04-07T10:00:11.871857600Z"
    }
   },
   "id": "f6c2213f2e6b9e6b"
  },
  {
   "cell_type": "code",
   "execution_count": null,
   "outputs": [],
   "source": [],
   "metadata": {
    "collapsed": false
   },
   "id": "944668e76acdccec"
  }
 ],
 "metadata": {
  "kernelspec": {
   "name": "python3",
   "language": "python",
   "display_name": "Python 3 (ipykernel)"
  },
  "language_info": {
   "codemirror_mode": {
    "name": "ipython",
    "version": 2
   },
   "file_extension": ".py",
   "mimetype": "text/x-python",
   "name": "python",
   "nbconvert_exporter": "python",
   "pygments_lexer": "ipython2",
   "version": "2.7.6"
  }
 },
 "nbformat": 4,
 "nbformat_minor": 5
}
